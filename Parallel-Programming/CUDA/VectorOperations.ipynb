{
  "nbformat": 4,
  "nbformat_minor": 0,
  "metadata": {
    "colab": {
      "provenance": [],
      "gpuType": "T4"
    },
    "kernelspec": {
      "name": "python3",
      "display_name": "Python 3"
    },
    "language_info": {
      "name": "python"
    },
    "accelerator": "GPU"
  },
  "cells": [
    {
      "cell_type": "code",
      "execution_count": 1,
      "metadata": {
        "colab": {
          "base_uri": "https://localhost:8080/"
        },
        "id": "8uh0L164vrCO",
        "outputId": "b4bb6d6d-8c73-4e84-bfc3-6b8877c87ca2"
      },
      "outputs": [
        {
          "output_type": "stream",
          "name": "stdout",
          "text": [
            "bin    cuda\tcuda-11.8  games\t       include\tlib64\t   man\t share\n",
            "colab  cuda-11\tetc\t   _gcs_config_ops.so  lib\tlicensing  sbin  src\n"
          ]
        }
      ],
      "source": [
        "! ls /usr/local/"
      ]
    },
    {
      "cell_type": "code",
      "source": [
        "! nvcc --version # nvcc compiler version"
      ],
      "metadata": {
        "colab": {
          "base_uri": "https://localhost:8080/"
        },
        "id": "rQjtusizwMEN",
        "outputId": "1dd86e36-90f2-461d-c3aa-a03e384b1de4"
      },
      "execution_count": 2,
      "outputs": [
        {
          "output_type": "stream",
          "name": "stdout",
          "text": [
            "nvcc: NVIDIA (R) Cuda compiler driver\n",
            "Copyright (c) 2005-2022 NVIDIA Corporation\n",
            "Built on Wed_Sep_21_10:33:58_PDT_2022\n",
            "Cuda compilation tools, release 11.8, V11.8.89\n",
            "Build cuda_11.8.r11.8/compiler.31833905_0\n"
          ]
        }
      ]
    },
    {
      "cell_type": "code",
      "source": [
        "%%writefile VectorOperations.cu\n",
        "#include<stdio.h>\n",
        "#include<stdlib.h>\n",
        "#include<cuda_runtime.h>\n",
        "\n",
        "// Kernel Function\n",
        "__global__ void SVector(float* V, float* S1, float* S2, int N){\n",
        "    int tid = threadIdx.x + blockIdx.x * blockDim.x;\n",
        "\n",
        "    if(tid < N - 1){\n",
        "      S1[tid] = V[tid] + V[tid + 1]; // Vector S_{1} := S[i] = V[i] + V[i+1]\n",
        "    }\n",
        "\n",
        "    if(tid > 0 && tid < N - 1){\n",
        "      S2[tid - 1] = (V[tid + 1] + V[tid - 1]) / 2.0; // Vector S_{2} := S[i] = V[i+1] + V[i-1]/2\n",
        "    }\n",
        "\n",
        "}\n",
        "\n",
        "// Main code executed by the host\n",
        "int main(void){\n",
        "  const int VN = 10; // vector V length\n",
        "  float Vh[VN] = {1.0, 2.0, 3.0, 4.0, 5.0, 6.0, 7.0, 8.0, 9.0, 10.0}; // initialize vector V\n",
        "\n",
        "  const int S1N = VN - 1; // vector S1 length\n",
        "  float S1h[S1N];\n",
        "\n",
        "  const int S2N = VN - 2; // vector S2 length\n",
        "  float S2h[S2N];\n",
        "\n",
        "\n",
        "  float *Vd, *S1d, *S2d;\n",
        "  cudaMalloc((void**) &Vd, VN * sizeof(float)); // allocate GPU memory\n",
        "  cudaMalloc((void**) &S1d, S1N * sizeof(float));\n",
        "  cudaMalloc((void**) &S2d, S2N * sizeof(float));\n",
        "\n",
        "  cudaMemcpy(Vd, Vh, VN * sizeof(float), cudaMemcpyHostToDevice); // copy data from host to device (vector V)\n",
        "\n",
        "  int BlockSize = 256; // threads per block\n",
        "  int NoBlocks = (S1N + BlockSize - 1) / BlockSize; // no. of blocks\n",
        "\n",
        "  SVector<<<NoBlocks, BlockSize>>>(Vd, S1d, S2d, VN); // kernel function calling\n",
        "\n",
        "  cudaMemcpy(S1h, S1d, S1N * sizeof(float), cudaMemcpyDeviceToHost); // copy data from device back to host (vector S_{1})\n",
        "  cudaMemcpy(S2h, S2d, S2N * sizeof(float), cudaMemcpyDeviceToHost); // copy data from device back to host (vector S_{2})\n",
        "\n",
        "  printf(\"\\n Vector V.\\n\");\n",
        "  for(int i = 0; i < VN; i++){\n",
        "    printf(\"%.2lf \", Vh[i]);\n",
        "  }\n",
        "\n",
        "  printf(\"\\n Vector S_{1}.\\n\");\n",
        "  for(int i = 0; i < VN - 1; i++){\n",
        "    printf(\"%.2lf \", S1h[i]);\n",
        "  }\n",
        "\n",
        "  printf(\"\\n Vector S_{2}.\\n\");\n",
        "  for(int i = 0; i < VN - 2; i++){\n",
        "    printf(\"%.2lf \", S2h[i]);\n",
        "  }\n",
        "\n",
        "  cudaFree(Vd); // free GPU memory\n",
        "  cudaFree(S1d);\n",
        "  cudaFree(S2d);\n",
        "\n",
        "  return(0);\n",
        "}"
      ],
      "metadata": {
        "colab": {
          "base_uri": "https://localhost:8080/"
        },
        "id": "RJeRsPkHwTr9",
        "outputId": "5ce87ca7-9597-46eb-e1bb-5241daf5002d"
      },
      "execution_count": 3,
      "outputs": [
        {
          "output_type": "stream",
          "name": "stdout",
          "text": [
            "Writing VectorOperations.cu\n"
          ]
        }
      ]
    },
    {
      "cell_type": "code",
      "source": [
        "! nvcc VectorOperations.cu -o test"
      ],
      "metadata": {
        "id": "mA1cQfQXwUQC"
      },
      "execution_count": 4,
      "outputs": []
    },
    {
      "cell_type": "code",
      "source": [
        "! ./test"
      ],
      "metadata": {
        "colab": {
          "base_uri": "https://localhost:8080/"
        },
        "id": "1TxQbDK3wV4R",
        "outputId": "aa93402d-4828-4e97-c024-5fefb3b5ad0e"
      },
      "execution_count": 5,
      "outputs": [
        {
          "output_type": "stream",
          "name": "stdout",
          "text": [
            "\n",
            " Vector V.\n",
            "1.00 2.00 3.00 4.00 5.00 6.00 7.00 8.00 9.00 10.00 \n",
            " Vector S_{1}.\n",
            "3.00 5.00 7.00 9.00 11.00 13.00 15.00 17.00 19.00 \n",
            " Vector S_{2}.\n",
            "2.00 3.00 4.00 5.00 6.00 7.00 8.00 9.00 "
          ]
        }
      ]
    }
  ]
}