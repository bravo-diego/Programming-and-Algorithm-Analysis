{
  "nbformat": 4,
  "nbformat_minor": 0,
  "metadata": {
    "colab": {
      "provenance": [],
      "gpuType": "T4"
    },
    "kernelspec": {
      "name": "python3",
      "display_name": "Python 3"
    },
    "language_info": {
      "name": "python"
    },
    "accelerator": "GPU"
  },
  "cells": [
    {
      "cell_type": "code",
      "execution_count": 1,
      "metadata": {
        "colab": {
          "base_uri": "https://localhost:8080/"
        },
        "id": "xXjWHb3n2mzw",
        "outputId": "b248be32-bafe-483c-bd84-0c9ba26e77f7"
      },
      "outputs": [
        {
          "output_type": "stream",
          "name": "stdout",
          "text": [
            "bin    cuda\tcuda-11.8  games\t       include\tlib64\t   man\t share\n",
            "colab  cuda-11\tetc\t   _gcs_config_ops.so  lib\tlicensing  sbin  src\n"
          ]
        }
      ],
      "source": [
        "! ls /usr/local/"
      ]
    },
    {
      "cell_type": "code",
      "source": [
        "! nvcc --version # nvcc compiler version"
      ],
      "metadata": {
        "colab": {
          "base_uri": "https://localhost:8080/"
        },
        "id": "eUthEudI3C7p",
        "outputId": "45eb542a-f5a5-4b97-a254-c44f88e8d72f"
      },
      "execution_count": 9,
      "outputs": [
        {
          "output_type": "stream",
          "name": "stdout",
          "text": [
            "nvcc: NVIDIA (R) Cuda compiler driver\n",
            "Copyright (c) 2005-2022 NVIDIA Corporation\n",
            "Built on Wed_Sep_21_10:33:58_PDT_2022\n",
            "Cuda compilation tools, release 11.8, V11.8.89\n",
            "Build cuda_11.8.r11.8/compiler.31833905_0\n"
          ]
        }
      ]
    },
    {
      "cell_type": "code",
      "source": [
        "%%writefile HelloCUDA.cu\n",
        "#include <stdio.h>\n",
        "#include <cuda_runtime.h>\n",
        "\n",
        "// Kernel Function - GPU function that is meant to be called from CPU code\n",
        "__global__ void helloCUDA(float e){ //\n",
        "    printf(\"Thread %d Block %d with value e=%f\\n\",threadIdx.x,blockIdx.x,e);\n",
        "}\n",
        "\n",
        "int main(void){\n",
        "\n",
        "    helloCUDA<<<3,6>>>(2.5f); // Kernel Function calling; KernelFunction<<<No. Blocks, No. Threads>>>(parameter)\n",
        "\n",
        "    cudaDeviceReset(); // restart device\n",
        "    return(0);\n",
        "}"
      ],
      "metadata": {
        "colab": {
          "base_uri": "https://localhost:8080/"
        },
        "id": "RT4fadvE3Jug",
        "outputId": "5f91f8d7-5102-439a-b883-b961d9e4bace"
      },
      "execution_count": 6,
      "outputs": [
        {
          "output_type": "stream",
          "name": "stdout",
          "text": [
            "Overwriting HelloCUDA.cu\n"
          ]
        }
      ]
    },
    {
      "cell_type": "code",
      "source": [
        "! nvcc HelloCUDA.cu -o HelloCUDA # compile with nvcc"
      ],
      "metadata": {
        "id": "2AwQa5uO3QRq"
      },
      "execution_count": 10,
      "outputs": []
    },
    {
      "cell_type": "code",
      "source": [
        "! ./HelloCUDA # run the program"
      ],
      "metadata": {
        "colab": {
          "base_uri": "https://localhost:8080/"
        },
        "id": "837P1jng3UFO",
        "outputId": "21095b8f-db6f-41dc-9b70-3aeb62676a2a"
      },
      "execution_count": 11,
      "outputs": [
        {
          "output_type": "stream",
          "name": "stdout",
          "text": [
            "Thread 0 Block 1 with value e=2.500000\n",
            "Thread 1 Block 1 with value e=2.500000\n",
            "Thread 2 Block 1 with value e=2.500000\n",
            "Thread 3 Block 1 with value e=2.500000\n",
            "Thread 4 Block 1 with value e=2.500000\n",
            "Thread 5 Block 1 with value e=2.500000\n",
            "Thread 0 Block 2 with value e=2.500000\n",
            "Thread 1 Block 2 with value e=2.500000\n",
            "Thread 2 Block 2 with value e=2.500000\n",
            "Thread 3 Block 2 with value e=2.500000\n",
            "Thread 4 Block 2 with value e=2.500000\n",
            "Thread 5 Block 2 with value e=2.500000\n",
            "Thread 0 Block 0 with value e=2.500000\n",
            "Thread 1 Block 0 with value e=2.500000\n",
            "Thread 2 Block 0 with value e=2.500000\n",
            "Thread 3 Block 0 with value e=2.500000\n",
            "Thread 4 Block 0 with value e=2.500000\n",
            "Thread 5 Block 0 with value e=2.500000\n"
          ]
        }
      ]
    }
  ]
}