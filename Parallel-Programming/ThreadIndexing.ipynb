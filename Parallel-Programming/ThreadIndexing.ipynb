{
  "nbformat": 4,
  "nbformat_minor": 0,
  "metadata": {
    "colab": {
      "provenance": [],
      "gpuType": "T4"
    },
    "kernelspec": {
      "name": "python3",
      "display_name": "Python 3"
    },
    "language_info": {
      "name": "python"
    },
    "accelerator": "GPU"
  },
  "cells": [
    {
      "cell_type": "code",
      "execution_count": 13,
      "metadata": {
        "colab": {
          "base_uri": "https://localhost:8080/"
        },
        "id": "bLIR0pF2GT_z",
        "outputId": "32bd800a-5620-4540-fdb2-96f4526f411c"
      },
      "outputs": [
        {
          "output_type": "stream",
          "name": "stdout",
          "text": [
            "bin    cuda\tcuda-11.8  games\t       include\tlib64\t   man\t share\n",
            "colab  cuda-11\tetc\t   _gcs_config_ops.so  lib\tlicensing  sbin  src\n"
          ]
        }
      ],
      "source": [
        "! ls /usr/local/"
      ]
    },
    {
      "cell_type": "code",
      "source": [
        "! nvcc --version # nvcc compiler version"
      ],
      "metadata": {
        "colab": {
          "base_uri": "https://localhost:8080/"
        },
        "id": "B5lDRkB5IPu7",
        "outputId": "3f20890c-c1a6-422b-da82-afabbdd100a4"
      },
      "execution_count": 14,
      "outputs": [
        {
          "output_type": "stream",
          "name": "stdout",
          "text": [
            "nvcc: NVIDIA (R) Cuda compiler driver\n",
            "Copyright (c) 2005-2022 NVIDIA Corporation\n",
            "Built on Wed_Sep_21_10:33:58_PDT_2022\n",
            "Cuda compilation tools, release 11.8, V11.8.89\n",
            "Build cuda_11.8.r11.8/compiler.31833905_0\n"
          ]
        }
      ]
    },
    {
      "cell_type": "code",
      "source": [
        "# Understanding Thread Indexing in CUDA\n",
        "%%writefile thread_indexing.cu\n",
        "#include<stdio.h>\n",
        "#include<stdlib.h>\n",
        "#include<cuda_runtime.h>\n",
        "#include<device_launch_parameters.h>\n",
        "\n",
        "// Kernel Function\n",
        "__global__ void idThreads_kernel(int *block_dev, int *threadLocal_dev, int *warp_dev, int *threadGlobal_dev){\n",
        "  int threadGlobal_idx = (blockIdx.x*blockDim.x) + threadIdx.x;\n",
        "  block_dev[threadGlobal_idx] = blockIdx.x;\n",
        "  threadLocal_dev[threadGlobal_idx] = threadGlobal_idx / warpSize;\n",
        "  threadGlobal_dev[threadGlobal_idx] = threadGlobal_idx;\n",
        "\n",
        "  printf(\"Global Thread %d -- Block %d -- Warp %d -- Local Thread %d\\n\", threadGlobal_dev[threadGlobal_idx], block_dev[threadGlobal_idx], warp_dev[threadGlobal_idx], threadLocal_dev[threadGlobal_idx]);\n",
        "}\n",
        "\n",
        "#define TAM 128\n",
        "\n",
        "// Main code executed by the host\n",
        "int main(void){\n",
        "  int num_blocks = 4; // 4 blocks each one with 32 threads\n",
        "  int num_threads = 32;\n",
        "\n",
        "  int block_host[TAM];\n",
        "  int threadLocal_host[TAM];\n",
        "  int warp_host[TAM];\n",
        "  int threadGlobal_host[TAM];\n",
        "\n",
        "  int *block_dev;\n",
        "  int *threadLocal_dev;\n",
        "  int *warp_dev;\n",
        "  int *threadGlobal_dev;\n",
        "\n",
        "  size_t TAM_bytes_int = TAM*sizeof(int);\n",
        "  cudaMalloc((void**)&block_dev, TAM_bytes_int);\n",
        "  cudaMalloc((void**)&threadLocal_dev, TAM_bytes_int);\n",
        "  cudaMalloc((void**)&warp_dev, TAM_bytes_int);\n",
        "  cudaMalloc((void**)&threadGlobal_dev, TAM_bytes_int);\n",
        "\n",
        "  cudaMemset(threadGlobal_dev, -1, TAM_bytes_int);\n",
        "  cudaMemset(threadLocal_dev, -1, TAM_bytes_int);\n",
        "  cudaMemset(warp_dev, -1, TAM_bytes_int);\n",
        "  cudaMemset(block_dev, -1, TAM_bytes_int);\n",
        "\n",
        "  idThreads_kernel<<<num_blocks, num_threads>>>(block_dev, threadLocal_dev, warp_dev, threadGlobal_dev);\n",
        "\n",
        "  cudaMemcpy(block_host, block_dev, TAM_bytes_int, cudaMemcpyDeviceToHost); // copy data from device back to host\n",
        "  cudaMemcpy(threadLocal_host, threadLocal_dev, TAM_bytes_int, cudaMemcpyDeviceToHost);\n",
        "  cudaMemcpy(warp_host, warp_dev, TAM_bytes_int, cudaMemcpyDeviceToHost);\n",
        "  cudaMemcpy(threadGlobal_host, threadGlobal_dev, TAM_bytes_int, cudaMemcpyDeviceToHost);\n",
        "\n",
        "  cudaFree(block_dev); // free memory device\n",
        "  cudaFree(threadLocal_dev);\n",
        "  cudaFree(warp_dev);\n",
        "  cudaFree(threadGlobal_dev);\n",
        "\n",
        "}"
      ],
      "metadata": {
        "colab": {
          "base_uri": "https://localhost:8080/"
        },
        "id": "sJY6FlhKISBl",
        "outputId": "2ef445b8-a0b0-444a-fe27-8d41785b7c1a"
      },
      "execution_count": 15,
      "outputs": [
        {
          "output_type": "stream",
          "name": "stdout",
          "text": [
            "Overwriting thread_indexing.cu\n"
          ]
        }
      ]
    },
    {
      "cell_type": "code",
      "source": [
        "! nvcc thread_indexing.cu -o test"
      ],
      "metadata": {
        "id": "E1OhYlXpOQBb"
      },
      "execution_count": 16,
      "outputs": []
    },
    {
      "cell_type": "code",
      "source": [
        "! ./test"
      ],
      "metadata": {
        "colab": {
          "base_uri": "https://localhost:8080/"
        },
        "id": "PKn6-4nTOSAC",
        "outputId": "7d4df22e-2b85-4d04-bc51-8e84603211fc"
      },
      "execution_count": 17,
      "outputs": [
        {
          "output_type": "stream",
          "name": "stdout",
          "text": [
            "Global Thread 64 -- Block 2 -- Warp -1 -- Local Thread 2\n",
            "Global Thread 65 -- Block 2 -- Warp -1 -- Local Thread 2\n",
            "Global Thread 66 -- Block 2 -- Warp -1 -- Local Thread 2\n",
            "Global Thread 67 -- Block 2 -- Warp -1 -- Local Thread 2\n",
            "Global Thread 68 -- Block 2 -- Warp -1 -- Local Thread 2\n",
            "Global Thread 69 -- Block 2 -- Warp -1 -- Local Thread 2\n",
            "Global Thread 70 -- Block 2 -- Warp -1 -- Local Thread 2\n",
            "Global Thread 71 -- Block 2 -- Warp -1 -- Local Thread 2\n",
            "Global Thread 72 -- Block 2 -- Warp -1 -- Local Thread 2\n",
            "Global Thread 73 -- Block 2 -- Warp -1 -- Local Thread 2\n",
            "Global Thread 74 -- Block 2 -- Warp -1 -- Local Thread 2\n",
            "Global Thread 75 -- Block 2 -- Warp -1 -- Local Thread 2\n",
            "Global Thread 76 -- Block 2 -- Warp -1 -- Local Thread 2\n",
            "Global Thread 77 -- Block 2 -- Warp -1 -- Local Thread 2\n",
            "Global Thread 78 -- Block 2 -- Warp -1 -- Local Thread 2\n",
            "Global Thread 79 -- Block 2 -- Warp -1 -- Local Thread 2\n",
            "Global Thread 80 -- Block 2 -- Warp -1 -- Local Thread 2\n",
            "Global Thread 81 -- Block 2 -- Warp -1 -- Local Thread 2\n",
            "Global Thread 82 -- Block 2 -- Warp -1 -- Local Thread 2\n",
            "Global Thread 83 -- Block 2 -- Warp -1 -- Local Thread 2\n",
            "Global Thread 84 -- Block 2 -- Warp -1 -- Local Thread 2\n",
            "Global Thread 85 -- Block 2 -- Warp -1 -- Local Thread 2\n",
            "Global Thread 86 -- Block 2 -- Warp -1 -- Local Thread 2\n",
            "Global Thread 87 -- Block 2 -- Warp -1 -- Local Thread 2\n",
            "Global Thread 88 -- Block 2 -- Warp -1 -- Local Thread 2\n",
            "Global Thread 89 -- Block 2 -- Warp -1 -- Local Thread 2\n",
            "Global Thread 90 -- Block 2 -- Warp -1 -- Local Thread 2\n",
            "Global Thread 91 -- Block 2 -- Warp -1 -- Local Thread 2\n",
            "Global Thread 92 -- Block 2 -- Warp -1 -- Local Thread 2\n",
            "Global Thread 93 -- Block 2 -- Warp -1 -- Local Thread 2\n",
            "Global Thread 94 -- Block 2 -- Warp -1 -- Local Thread 2\n",
            "Global Thread 95 -- Block 2 -- Warp -1 -- Local Thread 2\n",
            "Global Thread 0 -- Block 0 -- Warp -1 -- Local Thread 0\n",
            "Global Thread 1 -- Block 0 -- Warp -1 -- Local Thread 0\n",
            "Global Thread 2 -- Block 0 -- Warp -1 -- Local Thread 0\n",
            "Global Thread 3 -- Block 0 -- Warp -1 -- Local Thread 0\n",
            "Global Thread 4 -- Block 0 -- Warp -1 -- Local Thread 0\n",
            "Global Thread 5 -- Block 0 -- Warp -1 -- Local Thread 0\n",
            "Global Thread 6 -- Block 0 -- Warp -1 -- Local Thread 0\n",
            "Global Thread 7 -- Block 0 -- Warp -1 -- Local Thread 0\n",
            "Global Thread 8 -- Block 0 -- Warp -1 -- Local Thread 0\n",
            "Global Thread 9 -- Block 0 -- Warp -1 -- Local Thread 0\n",
            "Global Thread 10 -- Block 0 -- Warp -1 -- Local Thread 0\n",
            "Global Thread 11 -- Block 0 -- Warp -1 -- Local Thread 0\n",
            "Global Thread 12 -- Block 0 -- Warp -1 -- Local Thread 0\n",
            "Global Thread 13 -- Block 0 -- Warp -1 -- Local Thread 0\n",
            "Global Thread 14 -- Block 0 -- Warp -1 -- Local Thread 0\n",
            "Global Thread 15 -- Block 0 -- Warp -1 -- Local Thread 0\n",
            "Global Thread 16 -- Block 0 -- Warp -1 -- Local Thread 0\n",
            "Global Thread 17 -- Block 0 -- Warp -1 -- Local Thread 0\n",
            "Global Thread 18 -- Block 0 -- Warp -1 -- Local Thread 0\n",
            "Global Thread 19 -- Block 0 -- Warp -1 -- Local Thread 0\n",
            "Global Thread 20 -- Block 0 -- Warp -1 -- Local Thread 0\n",
            "Global Thread 21 -- Block 0 -- Warp -1 -- Local Thread 0\n",
            "Global Thread 22 -- Block 0 -- Warp -1 -- Local Thread 0\n",
            "Global Thread 23 -- Block 0 -- Warp -1 -- Local Thread 0\n",
            "Global Thread 24 -- Block 0 -- Warp -1 -- Local Thread 0\n",
            "Global Thread 25 -- Block 0 -- Warp -1 -- Local Thread 0\n",
            "Global Thread 26 -- Block 0 -- Warp -1 -- Local Thread 0\n",
            "Global Thread 27 -- Block 0 -- Warp -1 -- Local Thread 0\n",
            "Global Thread 28 -- Block 0 -- Warp -1 -- Local Thread 0\n",
            "Global Thread 29 -- Block 0 -- Warp -1 -- Local Thread 0\n",
            "Global Thread 30 -- Block 0 -- Warp -1 -- Local Thread 0\n",
            "Global Thread 31 -- Block 0 -- Warp -1 -- Local Thread 0\n",
            "Global Thread 96 -- Block 3 -- Warp -1 -- Local Thread 3\n",
            "Global Thread 97 -- Block 3 -- Warp -1 -- Local Thread 3\n",
            "Global Thread 98 -- Block 3 -- Warp -1 -- Local Thread 3\n",
            "Global Thread 99 -- Block 3 -- Warp -1 -- Local Thread 3\n",
            "Global Thread 100 -- Block 3 -- Warp -1 -- Local Thread 3\n",
            "Global Thread 101 -- Block 3 -- Warp -1 -- Local Thread 3\n",
            "Global Thread 102 -- Block 3 -- Warp -1 -- Local Thread 3\n",
            "Global Thread 103 -- Block 3 -- Warp -1 -- Local Thread 3\n",
            "Global Thread 104 -- Block 3 -- Warp -1 -- Local Thread 3\n",
            "Global Thread 105 -- Block 3 -- Warp -1 -- Local Thread 3\n",
            "Global Thread 106 -- Block 3 -- Warp -1 -- Local Thread 3\n",
            "Global Thread 107 -- Block 3 -- Warp -1 -- Local Thread 3\n",
            "Global Thread 108 -- Block 3 -- Warp -1 -- Local Thread 3\n",
            "Global Thread 109 -- Block 3 -- Warp -1 -- Local Thread 3\n",
            "Global Thread 110 -- Block 3 -- Warp -1 -- Local Thread 3\n",
            "Global Thread 111 -- Block 3 -- Warp -1 -- Local Thread 3\n",
            "Global Thread 112 -- Block 3 -- Warp -1 -- Local Thread 3\n",
            "Global Thread 113 -- Block 3 -- Warp -1 -- Local Thread 3\n",
            "Global Thread 114 -- Block 3 -- Warp -1 -- Local Thread 3\n",
            "Global Thread 115 -- Block 3 -- Warp -1 -- Local Thread 3\n",
            "Global Thread 116 -- Block 3 -- Warp -1 -- Local Thread 3\n",
            "Global Thread 117 -- Block 3 -- Warp -1 -- Local Thread 3\n",
            "Global Thread 118 -- Block 3 -- Warp -1 -- Local Thread 3\n",
            "Global Thread 119 -- Block 3 -- Warp -1 -- Local Thread 3\n",
            "Global Thread 120 -- Block 3 -- Warp -1 -- Local Thread 3\n",
            "Global Thread 121 -- Block 3 -- Warp -1 -- Local Thread 3\n",
            "Global Thread 122 -- Block 3 -- Warp -1 -- Local Thread 3\n",
            "Global Thread 123 -- Block 3 -- Warp -1 -- Local Thread 3\n",
            "Global Thread 124 -- Block 3 -- Warp -1 -- Local Thread 3\n",
            "Global Thread 125 -- Block 3 -- Warp -1 -- Local Thread 3\n",
            "Global Thread 126 -- Block 3 -- Warp -1 -- Local Thread 3\n",
            "Global Thread 127 -- Block 3 -- Warp -1 -- Local Thread 3\n",
            "Global Thread 32 -- Block 1 -- Warp -1 -- Local Thread 1\n",
            "Global Thread 33 -- Block 1 -- Warp -1 -- Local Thread 1\n",
            "Global Thread 34 -- Block 1 -- Warp -1 -- Local Thread 1\n",
            "Global Thread 35 -- Block 1 -- Warp -1 -- Local Thread 1\n",
            "Global Thread 36 -- Block 1 -- Warp -1 -- Local Thread 1\n",
            "Global Thread 37 -- Block 1 -- Warp -1 -- Local Thread 1\n",
            "Global Thread 38 -- Block 1 -- Warp -1 -- Local Thread 1\n",
            "Global Thread 39 -- Block 1 -- Warp -1 -- Local Thread 1\n",
            "Global Thread 40 -- Block 1 -- Warp -1 -- Local Thread 1\n",
            "Global Thread 41 -- Block 1 -- Warp -1 -- Local Thread 1\n",
            "Global Thread 42 -- Block 1 -- Warp -1 -- Local Thread 1\n",
            "Global Thread 43 -- Block 1 -- Warp -1 -- Local Thread 1\n",
            "Global Thread 44 -- Block 1 -- Warp -1 -- Local Thread 1\n",
            "Global Thread 45 -- Block 1 -- Warp -1 -- Local Thread 1\n",
            "Global Thread 46 -- Block 1 -- Warp -1 -- Local Thread 1\n",
            "Global Thread 47 -- Block 1 -- Warp -1 -- Local Thread 1\n",
            "Global Thread 48 -- Block 1 -- Warp -1 -- Local Thread 1\n",
            "Global Thread 49 -- Block 1 -- Warp -1 -- Local Thread 1\n",
            "Global Thread 50 -- Block 1 -- Warp -1 -- Local Thread 1\n",
            "Global Thread 51 -- Block 1 -- Warp -1 -- Local Thread 1\n",
            "Global Thread 52 -- Block 1 -- Warp -1 -- Local Thread 1\n",
            "Global Thread 53 -- Block 1 -- Warp -1 -- Local Thread 1\n",
            "Global Thread 54 -- Block 1 -- Warp -1 -- Local Thread 1\n",
            "Global Thread 55 -- Block 1 -- Warp -1 -- Local Thread 1\n",
            "Global Thread 56 -- Block 1 -- Warp -1 -- Local Thread 1\n",
            "Global Thread 57 -- Block 1 -- Warp -1 -- Local Thread 1\n",
            "Global Thread 58 -- Block 1 -- Warp -1 -- Local Thread 1\n",
            "Global Thread 59 -- Block 1 -- Warp -1 -- Local Thread 1\n",
            "Global Thread 60 -- Block 1 -- Warp -1 -- Local Thread 1\n",
            "Global Thread 61 -- Block 1 -- Warp -1 -- Local Thread 1\n",
            "Global Thread 62 -- Block 1 -- Warp -1 -- Local Thread 1\n",
            "Global Thread 63 -- Block 1 -- Warp -1 -- Local Thread 1\n"
          ]
        }
      ]
    }
  ]
}