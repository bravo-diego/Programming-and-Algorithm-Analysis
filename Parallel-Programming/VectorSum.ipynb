{
  "nbformat": 4,
  "nbformat_minor": 0,
  "metadata": {
    "colab": {
      "provenance": []
    },
    "kernelspec": {
      "name": "python3",
      "display_name": "Python 3"
    },
    "language_info": {
      "name": "python"
    }
  },
  "cells": [
    {
      "cell_type": "code",
      "execution_count": 14,
      "metadata": {
        "id": "T2iJaEkdGR4W",
        "colab": {
          "base_uri": "https://localhost:8080/"
        },
        "outputId": "bd4705f0-a136-42c9-fae7-759f3aeae774"
      },
      "outputs": [
        {
          "output_type": "stream",
          "name": "stdout",
          "text": [
            "bin    cuda\tcuda-11.8  games\t       include\tlib64\t   man\t share\n",
            "colab  cuda-11\tetc\t   _gcs_config_ops.so  lib\tlicensing  sbin  src\n"
          ]
        }
      ],
      "source": [
        "! ls /usr/local/"
      ]
    },
    {
      "cell_type": "code",
      "source": [
        "! nvcc --version # nvcc compiler version"
      ],
      "metadata": {
        "colab": {
          "base_uri": "https://localhost:8080/"
        },
        "id": "Ahv_Hbg4SJSN",
        "outputId": "621c1f8a-177f-48b0-98ff-085f71d05e38"
      },
      "execution_count": 15,
      "outputs": [
        {
          "output_type": "stream",
          "name": "stdout",
          "text": [
            "nvcc: NVIDIA (R) Cuda compiler driver\n",
            "Copyright (c) 2005-2022 NVIDIA Corporation\n",
            "Built on Wed_Sep_21_10:33:58_PDT_2022\n",
            "Cuda compilation tools, release 11.8, V11.8.89\n",
            "Build cuda_11.8.r11.8/compiler.31833905_0\n"
          ]
        }
      ]
    },
    {
      "cell_type": "code",
      "source": [
        "%%writefile vector_sum.cu\n",
        "#include <stdio.h>\n",
        "#include <stdlib.h>\n",
        "#include <cuda_runtime.h>\n",
        "\n",
        "// Kernel Function - GPU function that is meant to be called from CPU code\n",
        "__global__ void Vector_sum(float *c_d,float *a_d,float *b_d, int N)\n",
        "{\n",
        "  int idx = blockIdx.x * blockDim.x + threadIdx.x;\n",
        "  if (idx<N){\n",
        "\t  c_d[idx] = a_d[idx] + b_d[idx];\n",
        "  }\n",
        "}\n",
        "\n",
        "// Main code executed by the host\n",
        "int main(void){\n",
        "\tfloat *a_h,*b_h,*c_h; // pointers host\n",
        "\tfloat *a_d,*b_d,*c_d; // pointers device\n",
        "\tconst int N = 24;\n",
        "\n",
        "\tsize_t size=N * sizeof(float);\n",
        "\n",
        "\ta_h = (float *)malloc(size); // allocating memory host; alternative function cudaMallocHost\n",
        "\tb_h = (float *)malloc(size);\n",
        "\tc_h = (float *)malloc(size);\n",
        "\n",
        "\tsrand(time(NULL));\n",
        "\tfor (int i=0; i<N; i++){\n",
        "\t\t//a_h[i] = (float)i;b_h[i] = (float)(i+1);\n",
        "\t\ta_h[i] = rand() % 100 + 1.0;\n",
        "\t\tb_h[i] = rand() % 100 + 1.0;\n",
        "\t}\n",
        "\n",
        "\tprintf(\"\\nArray a:\\n\");\n",
        "\tfor (int i=0; i<N; i++) printf(\"%f \", a_h[i]);\n",
        "\tprintf(\"\\n\\nArray b:\\n\");\n",
        "\tfor (int i=0; i<N; i++) printf(\"%f \", b_h[i]);\n",
        "\n",
        "\tcudaMalloc((void **) &a_d,size); // allocating memory device\n",
        "\tcudaMalloc((void **) &b_d,size);\n",
        "\tcudaMalloc((void **) &c_d,size);\n",
        "\n",
        "\tcudaMemcpy(a_d, a_h, size, cudaMemcpyHostToDevice); // copy data from host to device\n",
        "\tcudaMemcpy(b_d, b_h, size, cudaMemcpyHostToDevice);\n",
        "\n",
        "\tint block_size =8;\n",
        "\tint n_blocks = N/block_size + (N%block_size == 0 ? 0:1);\n",
        "\n",
        "\tVector_sum<<<n_blocks, block_size>>>(c_d, a_d , b_d, N);\n",
        "\n",
        "\tcudaMemcpy(c_h, c_d, size, cudaMemcpyDeviceToHost); // copy data from device back to host\n",
        "\n",
        "\tprintf(\"\\n\\nArray c:\\n\");\n",
        "\tfor (int i=0; i<N; i++) printf(\"%f \", c_h[i]);\n",
        "\n",
        "\tprintf(\"\\n\\nEnd.\\n\");\n",
        "\t//system(\"pause\");\n",
        "\n",
        "\tfree(a_h); // free memory host\n",
        "\tfree(b_h);\n",
        "\tfree(c_h);\n",
        "\n",
        "\tcudaFree(a_d); // free memory device\n",
        "\tcudaFree(b_d);\n",
        "\tcudaFree(c_d);\n",
        "\n",
        "\treturn(0);\n",
        "}"
      ],
      "metadata": {
        "colab": {
          "base_uri": "https://localhost:8080/"
        },
        "id": "sc2rcQbKSOhd",
        "outputId": "7e83bced-dea9-45e0-b080-4960f4cd2c6a"
      },
      "execution_count": 21,
      "outputs": [
        {
          "output_type": "stream",
          "name": "stdout",
          "text": [
            "Overwriting vector_sum.cu\n"
          ]
        }
      ]
    },
    {
      "cell_type": "code",
      "source": [
        "! nvcc vector_sum.cu -o test"
      ],
      "metadata": {
        "id": "vAUnvm8sVt-O"
      },
      "execution_count": 22,
      "outputs": []
    },
    {
      "cell_type": "code",
      "source": [
        "! ./test"
      ],
      "metadata": {
        "colab": {
          "base_uri": "https://localhost:8080/"
        },
        "id": "2ROCnL9zV2mk",
        "outputId": "61ef40e4-7204-40e0-9edd-b6de0a4f6935"
      },
      "execution_count": 23,
      "outputs": [
        {
          "output_type": "stream",
          "name": "stdout",
          "text": [
            "\n",
            "Array a:\n",
            "36.000000 36.000000 7.000000 91.000000 35.000000 75.000000 67.000000 53.000000 38.000000 40.000000 34.000000 35.000000 45.000000 14.000000 97.000000 99.000000 31.000000 25.000000 40.000000 47.000000 22.000000 14.000000 91.000000 45.000000 \n",
            "\n",
            "Array b:\n",
            "55.000000 42.000000 55.000000 59.000000 55.000000 36.000000 18.000000 6.000000 66.000000 12.000000 19.000000 51.000000 41.000000 41.000000 77.000000 32.000000 86.000000 37.000000 68.000000 26.000000 22.000000 40.000000 18.000000 80.000000 \n",
            "\n",
            "Array c:\n",
            "0.000000 0.000000 0.000000 0.000000 0.000000 0.000000 0.000000 0.000000 0.000000 0.000000 0.000000 0.000000 0.000000 0.000000 0.000000 0.000000 0.000000 0.000000 0.000000 0.000000 0.000000 0.000000 0.000000 0.000000 \n",
            "\n",
            "End.\n"
          ]
        }
      ]
    }
  ]
}