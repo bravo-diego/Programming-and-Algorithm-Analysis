{
  "nbformat": 4,
  "nbformat_minor": 0,
  "metadata": {
    "colab": {
      "provenance": [],
      "gpuType": "T4"
    },
    "kernelspec": {
      "name": "python3",
      "display_name": "Python 3"
    },
    "language_info": {
      "name": "python"
    },
    "accelerator": "GPU"
  },
  "cells": [
    {
      "cell_type": "code",
      "execution_count": 1,
      "metadata": {
        "id": "kod5dwxolFq7"
      },
      "outputs": [],
      "source": [
        "import numpy as np\n",
        "import cupy as cp # import CuPy library"
      ]
    },
    {
      "cell_type": "code",
      "source": [
        "# Raw module class can be used to either compile raw CUDA sources or load CUDA modules; this class is useful when a number of CUDA kernels in the same source need to be retrieved\n",
        "\n",
        "# CUDA source\n",
        "loaded_from_source = r'''\n",
        "  extern \"C\" {\n",
        "  // Kernel Function\n",
        "  __global__ void S1Vector(float* V, float* S1, int N){\n",
        "    int tid = threadIdx.x + blockIdx.x * blockDim.x;\n",
        "    if(tid < N - 1){\n",
        "      S1[tid] = V[tid] + V[tid + 1]; // Vector S_{1} := S[i] = V[i] + V[i+1]\n",
        "    }\n",
        "  }\n",
        "  __global__ void S2Vector(float* V, float* S2, int N){\n",
        "    int tid = threadIdx.x + blockIdx.x * blockDim.x;\n",
        "    if(tid > 0 && tid < N - 1){\n",
        "      S2[tid - 1] = (V[tid + 1] + V[tid - 1]) / 2.0; // Vector S_{2} := S[i] = V[i+1] + V[i-1]/2\n",
        "    }\n",
        "  }\n",
        "}'''\n",
        "\n",
        "module = cp.RawModule(code = loaded_from_source)\n",
        "S1Vector = module.get_function('S1Vector') # CUDA kernels can be retrieved by calling get_function()\n",
        "S2Vector = module.get_function('S2Vector')\n",
        "\n",
        "length = 11\n",
        "V = cp.arange(1.0, length, 1.1, dtype=cp.float32) # Vector V with length N = 10\n",
        "S1 = cp.zeros(length-2, dtype=cp.float32) # Vector S_{1} := S[i] = V[i] + V[i+1] with length N = 9\n",
        "S2 = cp.zeros(length-3, dtype=cp.float32) # Vector S_{2} := S[i] = V[i+1] + V[i-1]/2 with length N = 8\n",
        "\n",
        "N = 10\n",
        "S1Vector((5,), (5,), (V, S1, N)) # kernel function calling\n",
        "S2Vector((5,), (5,), (V, S2, N))\n",
        "\n",
        "print(V)\n",
        "print(S1) # Vector S1\n",
        "print(S2) # Vector S2"
      ],
      "metadata": {
        "colab": {
          "base_uri": "https://localhost:8080/"
        },
        "id": "4PXSYx89lLlT",
        "outputId": "a41b4f51-cdd1-4650-f942-e24302024a63"
      },
      "execution_count": 2,
      "outputs": [
        {
          "output_type": "stream",
          "name": "stdout",
          "text": [
            "[ 1.         2.1        3.2        4.3        5.4        6.5\n",
            "  7.6000004  8.7        9.8       10.900001 ]\n",
            "[ 3.1       5.3       7.5       9.700001 11.9      14.1      16.3\n",
            " 18.5      20.7     ]\n",
            "[2.1      3.2      4.3      5.4      6.5      7.6      8.700001 9.8     ]\n"
          ]
        }
      ]
    }
  ]
}