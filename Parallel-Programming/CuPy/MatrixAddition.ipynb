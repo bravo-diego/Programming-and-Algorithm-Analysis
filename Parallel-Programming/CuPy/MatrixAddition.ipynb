{
  "nbformat": 4,
  "nbformat_minor": 0,
  "metadata": {
    "colab": {
      "provenance": [],
      "gpuType": "T4"
    },
    "kernelspec": {
      "name": "python3",
      "display_name": "Python 3"
    },
    "language_info": {
      "name": "python"
    },
    "accelerator": "GPU"
  },
  "cells": [
    {
      "cell_type": "code",
      "execution_count": 1,
      "metadata": {
        "id": "Sxhk2Yq7ix8R"
      },
      "outputs": [],
      "source": [
        "import numpy as np\n",
        "import cupy as cp # import CuPy library"
      ]
    },
    {
      "cell_type": "code",
      "source": [
        "# CUDA source\n",
        "loaded_from_source = r'''\n",
        "  extern \"C\" {\n",
        "  // Kernel Function C_{1} matrix\n",
        "__global__ void C1Matrix(float *A, float *B, float *C, int N, int M){\n",
        "  int i = blockIdx.x * blockDim.x + threadIdx.x;\n",
        "  int j = blockIdx.y * blockDim.y + threadIdx.y;\n",
        "\n",
        "  if(i < N && j < M){\n",
        "    C[i * M + j] = A[i * M + j] + B[(N -  i - 1) * M + (M - j - 1)]; // C := C[i][j] = A[i][j] + B[N - i - 1][M - j - 1]\n",
        "  }\n",
        "}\n",
        "\n",
        "// Kernel Function C_{2} matrix\n",
        "__global__ void C2Matrix(double alpha, float *A, float *B, float *C, int N, int M){\n",
        "  int i = blockIdx.x * blockDim.x + threadIdx.x;\n",
        "  int j = blockIdx.y * blockDim.y + threadIdx.y;\n",
        "\n",
        "  if(i < N && j < M){\n",
        "    C[i * M + j] = alpha*A[i * M + j] + (1 - alpha)*B[i * M + j]; // C := C[i][j] = (a)A[i][j] + (1 - a)B[i][j]; with a in [0, 1]\n",
        "  }\n",
        "}\n",
        "}'''\n",
        "\n",
        "module = cp.RawModule(code = loaded_from_source)\n",
        "C1Matrix = module.get_function('C1Matrix') # CUDA kernels can be retrieved by calling get_function()\n",
        "C2Matrix = module.get_function('C2Matrix')\n",
        "\n",
        "N = 2.0\n",
        "M = 3.0\n",
        "alpha = 0.1\n",
        "\n",
        "A = 2.1*cp.arange(1.0, N*M+1, dtype=cp.float32).reshape(int(N), int(M)) # Matrix A_{nxm}\n",
        "B = 4.1*cp.arange(1.0, N*M+1, dtype=cp.float32).reshape(int(N), int(M)) # Matrix B_{nxm}\n",
        "C1 = cp.zeros((int(N), int(M)), dtype=cp.float32) # Matrix C1_{nxm} := C[i][j] = A[i][j] + B[N - i - 1][M - j - 1]\n",
        "C2 = cp.zeros((int(N), int(M)), dtype=cp.float32) # Matrix C2_{nxm} := C[i][j] = (a)A[i][j] + (1 - a)B[i][j]; with a in [0, 1]\n",
        "\n",
        "block_size = (16, 16)\n",
        "grid_size = ((int(N) + block_size[0] - 1) // block_size[0], (int(M) + block_size[1] - 1) // block_size[1])\n",
        "\n",
        "C1Matrix(grid_size, block_size, (A, B, C1, int(N), int(M))) # kernel function calling\n",
        "C2Matrix(grid_size, block_size, (float(alpha), A, B, C2, int(N), int(M)))\n",
        "\n",
        "print(A)\n",
        "print(B)\n",
        "print(C1) # Matrix C1_{nxm}\n",
        "print(C2) # Matrix C2_{nxm}\n"
      ],
      "metadata": {
        "colab": {
          "base_uri": "https://localhost:8080/"
        },
        "id": "iOfjHfgOq922",
        "outputId": "4fbf33e7-9f76-4a44-9ea0-0704f0d0fa1a"
      },
      "execution_count": 2,
      "outputs": [
        {
          "output_type": "stream",
          "name": "stdout",
          "text": [
            "[[ 2.1        4.2        6.2999997]\n",
            " [ 8.4       10.5       12.599999 ]]\n",
            "[[ 4.1       8.2      12.299999]\n",
            " [16.4      20.5      24.599998]]\n",
            "[[26.699999 24.7      22.699999]\n",
            " [20.699999 18.7      16.699999]]\n",
            "[[ 3.8999999  7.7999997 11.699999 ]\n",
            " [15.599999  19.5       23.399998 ]]\n"
          ]
        }
      ]
    }
  ]
}