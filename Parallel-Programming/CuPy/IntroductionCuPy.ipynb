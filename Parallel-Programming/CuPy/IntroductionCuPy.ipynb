{
  "nbformat": 4,
  "nbformat_minor": 0,
  "metadata": {
    "colab": {
      "provenance": [],
      "gpuType": "T4"
    },
    "kernelspec": {
      "name": "python3",
      "display_name": "Python 3"
    },
    "language_info": {
      "name": "python"
    },
    "accelerator": "GPU"
  },
  "cells": [
    {
      "cell_type": "markdown",
      "source": [
        "## Introduction to CuPy"
      ],
      "metadata": {
        "id": "Oy7cPwLIaYVH"
      }
    },
    {
      "cell_type": "markdown",
      "source": [
        "CuPy is an open-source library used as a drop-in replacement for NumPy. It provides GPU-accelerated **array computation** for Python. It allows users to leverage the power of GPUs to speed up numerical calculations."
      ],
      "metadata": {
        "id": "cy7Nsj6lagK2"
      }
    },
    {
      "cell_type": "markdown",
      "source": [
        "CuPy is implemented in C++ and used the CUDA programming model to perform computations on the GPU."
      ],
      "metadata": {
        "id": "AcaT4vGua6l9"
      }
    },
    {
      "cell_type": "code",
      "source": [
        "import numpy as np\n",
        "import cupy as cp # import CuPy library"
      ],
      "metadata": {
        "id": "7D-MZuRhVKBu"
      },
      "execution_count": null,
      "outputs": []
    },
    {
      "cell_type": "code",
      "source": [
        "# Declare variables using CuPy\n",
        "x_cpu = np.array([1, 2, 3]) # array in CPU\n",
        "x_gpu = cp.array([2, 4, 6]) # array in GPU\n",
        "print(x_cpu)\n",
        "print(x_gpu)"
      ],
      "metadata": {
        "colab": {
          "base_uri": "https://localhost:8080/"
        },
        "id": "FnVxKTuPVma-",
        "outputId": "260f5d7e-da08-41a8-f430-dd8890daa220"
      },
      "execution_count": 5,
      "outputs": [
        {
          "output_type": "stream",
          "name": "stdout",
          "text": [
            "[1 2 3]\n",
            "[2 4 6]\n"
          ]
        }
      ]
    },
    {
      "cell_type": "markdown",
      "source": [
        "The main difference between *cupy.ndarray* and *numpy.ndarray* is that the CuPy arrays are allocated on the current device."
      ],
      "metadata": {
        "id": "CAuU71tccvmf"
      }
    },
    {
      "cell_type": "code",
      "source": [
        "# Simple CuPy function\n",
        "def add(a, b):\n",
        "  return a + b\n",
        "\n",
        "a = cp.array([1, 2, 3])\n",
        "b = cp.array([1, 2, 3])\n",
        "\n",
        "c = add(a, b)\n",
        "print(c)"
      ],
      "metadata": {
        "colab": {
          "base_uri": "https://localhost:8080/"
        },
        "id": "znvOLRXqaU18",
        "outputId": "8b891694-fee1-4ab9-b58f-26422434811e"
      },
      "execution_count": 2,
      "outputs": [
        {
          "output_type": "stream",
          "name": "stdout",
          "text": [
            "[2 4 6]\n"
          ]
        }
      ]
    },
    {
      "cell_type": "markdown",
      "source": [
        "Most of the array manipulations are also done in the way similar to NumPy."
      ],
      "metadata": {
        "id": "FbJQZL9AdGFT"
      }
    },
    {
      "cell_type": "code",
      "source": [
        "x_cpu = np.array([1, 2, 3]) # array in CPU\n",
        "l2_cpu = np.linalg.norm(x_cpu)\n",
        "print(l2_cpu)"
      ],
      "metadata": {
        "colab": {
          "base_uri": "https://localhost:8080/"
        },
        "id": "Y7ST6aJFdEsw",
        "outputId": "90816eec-ea53-4ccf-de41-679336341d76"
      },
      "execution_count": 6,
      "outputs": [
        {
          "output_type": "stream",
          "name": "stdout",
          "text": [
            "3.7416573867739413\n"
          ]
        }
      ]
    },
    {
      "cell_type": "code",
      "source": [
        "x_gpu = cp.array([1, 2, 3]) # array in CPU\n",
        "l2_gpu = cp.linalg.norm(x_gpu)\n",
        "print(l2_gpu)"
      ],
      "metadata": {
        "colab": {
          "base_uri": "https://localhost:8080/"
        },
        "id": "XQKw-pV2fUIz",
        "outputId": "6b3193f2-5c17-4de6-ed9f-0a0d7227fd68"
      },
      "execution_count": 7,
      "outputs": [
        {
          "output_type": "stream",
          "name": "stdout",
          "text": [
            "3.7416573867739413\n"
          ]
        }
      ]
    },
    {
      "cell_type": "markdown",
      "source": [
        "CuPy has a concept of a **current device**, which is the default GPU device on which the allocation, manipulation, calculation, etc., of arrays take place. Suppose ID on the current device is 0, in that case, the following code will create an array *x_gpu* on GPU 0 (**current device**)."
      ],
      "metadata": {
        "id": "FTY0d5HCfsh0"
      }
    },
    {
      "cell_type": "code",
      "source": [
        "x_gpu = cp.array([1, 2, 3, 4, 5, 6, 7, 8, 9, 10])\n",
        "print(x_gpu)\n",
        "\n",
        "with cp.cuda.Device(0): # Device manager to siwth to another GPU device\n",
        "    y_gpu = cp.array([1, 2, 3, 4, 5])\n",
        "print(y_gpu, y_gpu.device)"
      ],
      "metadata": {
        "colab": {
          "base_uri": "https://localhost:8080/"
        },
        "id": "-taNhxqTgMsK",
        "outputId": "ef2e88e9-b8ef-40e2-fcbf-7ea53a1f98a8"
      },
      "execution_count": 10,
      "outputs": [
        {
          "output_type": "stream",
          "name": "stdout",
          "text": [
            "[ 1  2  3  4  5  6  7  8  9 10]\n",
            "[1 2 3 4 5] <CUDA Device 0>\n"
          ]
        }
      ]
    },
    {
      "cell_type": "markdown",
      "source": [
        "All CuPy operations are performed on the currently active device. In general, CuPy functions expect that the array is on the same device as the current one."
      ],
      "metadata": {
        "id": "kdogzlHig_Tg"
      }
    },
    {
      "cell_type": "markdown",
      "source": [
        "*cupy.asarray()* can be used to move a *numpy.ndarray*, a list, or any object that can be passed to *numpy.array()* to the current device."
      ],
      "metadata": {
        "id": "msI0ER8RhdNq"
      }
    },
    {
      "cell_type": "code",
      "source": [
        "x_cpu = np.array([1, 2, 3, 4, 5])\n",
        "x_gpu = cp.asarray(x_cpu) # transfer data to current device\n",
        "print(type(x_cpu))\n",
        "print(type(x_gpu), x_gpu.device)"
      ],
      "metadata": {
        "colab": {
          "base_uri": "https://localhost:8080/"
        },
        "id": "IfxtaV8ShKGM",
        "outputId": "5ad9ae7a-db0e-4ffe-b5c5-da4bb87b2cce"
      },
      "execution_count": 15,
      "outputs": [
        {
          "output_type": "stream",
          "name": "stdout",
          "text": [
            "<class 'numpy.ndarray'>\n",
            "<class 'cupy.ndarray'> <CUDA Device 0>\n"
          ]
        }
      ]
    },
    {
      "cell_type": "code",
      "source": [
        "x_gpu = cp.array([1, 2, 3, 4, 5])\n",
        "x_cpu = cp.asnumpy(x_gpu) # transfer data from device to host\n",
        "print(type(x_gpu), x_gpu.device)\n",
        "print(type(x_cpu))"
      ],
      "metadata": {
        "colab": {
          "base_uri": "https://localhost:8080/"
        },
        "id": "DUIel_f9iGhs",
        "outputId": "7e997ffa-090e-4367-e1dc-7ffcc2fc18b1"
      },
      "execution_count": 18,
      "outputs": [
        {
          "output_type": "stream",
          "name": "stdout",
          "text": [
            "<class 'cupy.ndarray'> <CUDA Device 0>\n",
            "<class 'numpy.ndarray'>\n"
          ]
        }
      ]
    },
    {
      "cell_type": "code",
      "source": [
        "x_cpu = np.array([1, 3, 5, 7, 9])\n",
        "\n",
        "x_gpu = cp.array([1, 3, 5, 7, 9])\n",
        "y_gpu = cp.array([2, 4, 6, 8, 10])\n",
        "\n",
        "z_gpu = x_gpu + y_gpu\n",
        "print(z_gpu)\n",
        "\n",
        "z2_gpu = cp.asarray(x_cpu) + y_gpu\n",
        "print(z2_gpu)"
      ],
      "metadata": {
        "colab": {
          "base_uri": "https://localhost:8080/"
        },
        "id": "rRLw9hfcitEm",
        "outputId": "e57c6afe-3734-46b4-ac0b-c35944b4181e"
      },
      "execution_count": 22,
      "outputs": [
        {
          "output_type": "stream",
          "name": "stdout",
          "text": [
            "[ 3  7 11 15 19]\n",
            "[ 3  7 11 15 19]\n"
          ]
        }
      ]
    }
  ]
}