{
  "nbformat": 4,
  "nbformat_minor": 0,
  "metadata": {
    "colab": {
      "provenance": [],
      "gpuType": "T4"
    },
    "kernelspec": {
      "name": "python3",
      "display_name": "Python 3"
    },
    "language_info": {
      "name": "python"
    },
    "accelerator": "GPU"
  },
  "cells": [
    {
      "cell_type": "code",
      "execution_count": 1,
      "metadata": {
        "colab": {
          "base_uri": "https://localhost:8080/"
        },
        "id": "lyfqy38phy8r",
        "outputId": "1709bbd1-7295-4d58-83da-6dad792d4eed"
      },
      "outputs": [
        {
          "output_type": "stream",
          "name": "stdout",
          "text": [
            "bin    cuda\tcuda-11.8  games\t       include\tlib64\t   man\t share\n",
            "colab  cuda-11\tetc\t   _gcs_config_ops.so  lib\tlicensing  sbin  src\n"
          ]
        }
      ],
      "source": [
        "! ls /usr/local/"
      ]
    },
    {
      "cell_type": "code",
      "source": [
        "! nvcc --version # nvcc compiler version"
      ],
      "metadata": {
        "colab": {
          "base_uri": "https://localhost:8080/"
        },
        "id": "nyf_2uMEi4Kw",
        "outputId": "780777b2-4737-4284-d345-5a407b51f25b"
      },
      "execution_count": 2,
      "outputs": [
        {
          "output_type": "stream",
          "name": "stdout",
          "text": [
            "nvcc: NVIDIA (R) Cuda compiler driver\n",
            "Copyright (c) 2005-2022 NVIDIA Corporation\n",
            "Built on Wed_Sep_21_10:33:58_PDT_2022\n",
            "Cuda compilation tools, release 11.8, V11.8.89\n",
            "Build cuda_11.8.r11.8/compiler.31833905_0\n"
          ]
        }
      ]
    },
    {
      "cell_type": "code",
      "source": [
        "%%writefile MatrixAddition.cu\n",
        "#include<stdio.h>\n",
        "#include<stdlib.h>\n",
        "#include<cuda_runtime.h>\n",
        "\n",
        "// Kernel Function C_{1} matrix\n",
        "__global__ void C1Matrix(int *A, int *B, int *C, int N, int M){\n",
        "  int i = blockIdx.x * blockDim.x + threadIdx.x;\n",
        "  int j = blockIdx.y * blockDim.y + threadIdx.y;\n",
        "\n",
        "  if(i < N && j < M){\n",
        "    C[i * M + j] = A[i * M + j] + B[(N -  i - 1) * M + (M - j - 1)]; // C := C[i][j] = A[i][j] + B[N - i - 1][M - j - 1]\n",
        "  }\n",
        "}\n",
        "\n",
        "// Kernel Function C_{2} matrix\n",
        "__global__ void C2Matrix(float alpha, int *A, int *B, float *C, int N, int M){\n",
        "  int i = blockIdx.x * blockDim.x + threadIdx.x;\n",
        "  int j = blockIdx.y * blockDim.y + threadIdx.y;\n",
        "\n",
        "  if(i < N && j < M){\n",
        "    C[i * M + j] = alpha*A[i * M + j] + (1 - alpha)*B[i * M + j]; // C := C[i][j] = (a)A[i][j] + (1 - a)B[N - i - 1][M - j - 1]; with a in [0, 1]\n",
        "  }\n",
        "}\n",
        "\n",
        "// Main code executed by the host\n",
        "int main(void){\n",
        "  int N = 2; // no. rows\n",
        "  int M = 3; // no. columns\n",
        "  float alpha = 0.1; // alpha value\n",
        "\n",
        "  int* Ah = (int*)malloc(N*M*sizeof(int)); // allocate host memory\n",
        "  int* Bh = (int*)malloc(N*M*sizeof(int));\n",
        "  int* C1h = (int*)malloc(N*M*sizeof(int));\n",
        "  float* C2h = (float*)malloc(N*M*sizeof(float));\n",
        "\n",
        "  for(int i = 0; i < N; i++){\n",
        "    for(int j = 0; j < M; j++){\n",
        "      Ah[i*M+j] = j + 1 + i;\n",
        "      Bh[i*M+j] = (j + 1 + i) * 2;\n",
        "    }\n",
        "\n",
        "  }\n",
        "\n",
        "  int *Ad, *Bd, *C1d;\n",
        "  float *C2d;\n",
        "\n",
        "  cudaMalloc((void**)&Ad, N * M * sizeof(int)); // allocate GPU memory\n",
        "  cudaMalloc((void**)&Bd, N * M * sizeof(int));\n",
        "  cudaMalloc((void**)&C1d, N * M * sizeof(int));\n",
        "  cudaMalloc((void**)&C2d, N * M * sizeof(float));\n",
        "\n",
        "  cudaMemcpy(Ad, Ah, N*M*sizeof(int), cudaMemcpyHostToDevice); // copy data from host to device (matrix A)\n",
        "  cudaMemcpy(Bd, Bh, N*M*sizeof(int), cudaMemcpyHostToDevice); // copy data from host to device (matrix B)\n",
        "\n",
        "  dim3 BlockSize(16, 16); // threads per block\n",
        "  dim3 GridSize((N + BlockSize.x - 1) / BlockSize.x, (M + BlockSize.y - 1) / BlockSize.y); // no. of blocks\n",
        "\n",
        "  C1Matrix<<<GridSize, BlockSize>>>(Ad, Bd, C1d, N, M); // kernel function calling\n",
        "  C2Matrix<<<GridSize, BlockSize>>>(alpha, Ad, Bd, C2d, N, M);\n",
        "\n",
        "  cudaMemcpy(C1h, C1d, N*M*sizeof(int), cudaMemcpyDeviceToHost); // copy data from device back to host (matrix C_{1})\n",
        "  cudaMemcpy(C2h, C2d, N*M*sizeof(float), cudaMemcpyDeviceToHost); // copy data from device back to host (matrix C_{2})\n",
        "\n",
        "  printf(\"\\n Matrix A.\\n\");\n",
        "  for(int i = 0; i < N; i++){\n",
        "    for(int j = 0; j < M; j++){\n",
        "      printf(\"%d \", Ah[i*M+j]);\n",
        "    }\n",
        "    printf(\"\\n\");\n",
        "  }\n",
        "\n",
        "  printf(\"\\n Matrix B.\\n\");\n",
        "  for(int i = 0; i < N; i++){\n",
        "    for(int j = 0; j < M; j++){\n",
        "      printf(\"%d \", Bh[i*M+j]);\n",
        "    }\n",
        "    printf(\"\\n\");\n",
        "  }\n",
        "\n",
        "  printf(\"\\n Matrix C_{1}.\\n\");\n",
        "  for(int i = 0; i < N; i++){\n",
        "    for(int j = 0; j < M; j++){\n",
        "      printf(\"%d \", C1h[i*M+j]);\n",
        "    }\n",
        "    printf(\"\\n\");\n",
        "  }\n",
        "\n",
        "  printf(\"\\n Matrix C_{2}.\\n\");\n",
        "  for(int i = 0; i < N; i++){\n",
        "    for(int j = 0; j < M; j++){\n",
        "      printf(\"%.2lf \", C2h[i*M+j]);\n",
        "    }\n",
        "    printf(\"\\n\");\n",
        "  }\n",
        "\n",
        "  cudaFree(Ad); // free GPU memory\n",
        "  cudaFree(Bd);\n",
        "  cudaFree(C1d);\n",
        "  cudaFree(C2d);\n",
        "\n",
        "  free(Ah); // free host memory\n",
        "  free(Bh);\n",
        "  free(C1h);\n",
        "  free(C2h);\n",
        "\n",
        "  return(0);\n",
        "}"
      ],
      "metadata": {
        "colab": {
          "base_uri": "https://localhost:8080/"
        },
        "id": "TeUhtBLmi70u",
        "outputId": "65ed259e-131a-4576-8e0a-32743f5aee87"
      },
      "execution_count": 3,
      "outputs": [
        {
          "output_type": "stream",
          "name": "stdout",
          "text": [
            "Writing MatrixAddition.cu\n"
          ]
        }
      ]
    },
    {
      "cell_type": "code",
      "source": [
        "! nvcc MatrixAddition.cu -o test"
      ],
      "metadata": {
        "id": "bSgveQ9Ki-Fq"
      },
      "execution_count": 4,
      "outputs": []
    },
    {
      "cell_type": "code",
      "source": [
        "! ./test"
      ],
      "metadata": {
        "colab": {
          "base_uri": "https://localhost:8080/"
        },
        "id": "R40-gIlui-_5",
        "outputId": "a150629e-03ac-444c-dda6-32adf1700a7d"
      },
      "execution_count": 5,
      "outputs": [
        {
          "output_type": "stream",
          "name": "stdout",
          "text": [
            "\n",
            " Matrix A.\n",
            "1 2 3 \n",
            "2 3 4 \n",
            "\n",
            " Matrix B.\n",
            "2 4 6 \n",
            "4 6 8 \n",
            "\n",
            " Matrix C_{1}.\n",
            "9 8 7 \n",
            "8 7 6 \n",
            "\n",
            " Matrix C_{2}.\n",
            "1.90 3.80 5.70 \n",
            "3.80 5.70 7.60 \n"
          ]
        }
      ]
    }
  ]
}